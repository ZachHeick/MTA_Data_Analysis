{
 "cells": [
  {
   "cell_type": "markdown",
   "metadata": {},
   "source": [
    "Topic: Project 1 Challenges  \n",
    "Subject: Challenge Set 1  \n",
    "Date: 09/29/2017  \n",
    "Name: Zach Heick  "
   ]
  },
  {
   "cell_type": "code",
   "execution_count": 103,
   "metadata": {
    "collapsed": true
   },
   "outputs": [],
   "source": [
    "import pandas as pd\n",
    "import numpy as np\n",
    "import matplotlib.pyplot as plt\n",
    "import seaborn as sb\n",
    "from collections import defaultdict\n",
    "pd.options.display.float_format = '{:.2f}'.format\n",
    "import random\n",
    "import datetime\n",
    "\n",
    "\n",
    "%matplotlib inline"
   ]
  },
  {
   "cell_type": "markdown",
   "metadata": {},
   "source": [
    "## Challenge 1"
   ]
  },
  {
   "cell_type": "code",
   "execution_count": 104,
   "metadata": {
    "collapsed": true
   },
   "outputs": [],
   "source": [
    "weeks = [170506, 170513, 170520, 170527]\n",
    "url = 'http://web.mta.info/developers/data/nyct/turnstile/turnstile_{}.txt'\n",
    "df_list = []\n",
    "for week in weeks:\n",
    "    df_list.append(pd.read_csv(url.format(week)))\n",
    "mta_df = pd.concat(df_list)"
   ]
  },
  {
   "cell_type": "code",
   "execution_count": 105,
   "metadata": {},
   "outputs": [
    {
     "data": {
      "text/html": [
       "<div>\n",
       "<style>\n",
       "    .dataframe thead tr:only-child th {\n",
       "        text-align: right;\n",
       "    }\n",
       "\n",
       "    .dataframe thead th {\n",
       "        text-align: left;\n",
       "    }\n",
       "\n",
       "    .dataframe tbody tr th {\n",
       "        vertical-align: top;\n",
       "    }\n",
       "</style>\n",
       "<table border=\"1\" class=\"dataframe\">\n",
       "  <thead>\n",
       "    <tr style=\"text-align: right;\">\n",
       "      <th></th>\n",
       "      <th>C/A</th>\n",
       "      <th>UNIT</th>\n",
       "      <th>SCP</th>\n",
       "      <th>STATION</th>\n",
       "      <th>LINENAME</th>\n",
       "      <th>DIVISION</th>\n",
       "      <th>DATE</th>\n",
       "      <th>TIME</th>\n",
       "      <th>DESC</th>\n",
       "      <th>ENTRIES</th>\n",
       "      <th>EXITS</th>\n",
       "    </tr>\n",
       "  </thead>\n",
       "  <tbody>\n",
       "    <tr>\n",
       "      <th>0</th>\n",
       "      <td>A002</td>\n",
       "      <td>R051</td>\n",
       "      <td>02-00-00</td>\n",
       "      <td>59 ST</td>\n",
       "      <td>NQR456W</td>\n",
       "      <td>BMT</td>\n",
       "      <td>04/29/2017</td>\n",
       "      <td>00:00:00</td>\n",
       "      <td>REGULAR</td>\n",
       "      <td>6157740</td>\n",
       "      <td>2085315</td>\n",
       "    </tr>\n",
       "    <tr>\n",
       "      <th>1</th>\n",
       "      <td>A002</td>\n",
       "      <td>R051</td>\n",
       "      <td>02-00-00</td>\n",
       "      <td>59 ST</td>\n",
       "      <td>NQR456W</td>\n",
       "      <td>BMT</td>\n",
       "      <td>04/29/2017</td>\n",
       "      <td>04:00:00</td>\n",
       "      <td>REGULAR</td>\n",
       "      <td>6157777</td>\n",
       "      <td>2085319</td>\n",
       "    </tr>\n",
       "    <tr>\n",
       "      <th>2</th>\n",
       "      <td>A002</td>\n",
       "      <td>R051</td>\n",
       "      <td>02-00-00</td>\n",
       "      <td>59 ST</td>\n",
       "      <td>NQR456W</td>\n",
       "      <td>BMT</td>\n",
       "      <td>04/29/2017</td>\n",
       "      <td>08:00:00</td>\n",
       "      <td>REGULAR</td>\n",
       "      <td>6157810</td>\n",
       "      <td>2085353</td>\n",
       "    </tr>\n",
       "    <tr>\n",
       "      <th>3</th>\n",
       "      <td>A002</td>\n",
       "      <td>R051</td>\n",
       "      <td>02-00-00</td>\n",
       "      <td>59 ST</td>\n",
       "      <td>NQR456W</td>\n",
       "      <td>BMT</td>\n",
       "      <td>04/29/2017</td>\n",
       "      <td>12:00:00</td>\n",
       "      <td>REGULAR</td>\n",
       "      <td>6157963</td>\n",
       "      <td>2085453</td>\n",
       "    </tr>\n",
       "    <tr>\n",
       "      <th>4</th>\n",
       "      <td>A002</td>\n",
       "      <td>R051</td>\n",
       "      <td>02-00-00</td>\n",
       "      <td>59 ST</td>\n",
       "      <td>NQR456W</td>\n",
       "      <td>BMT</td>\n",
       "      <td>04/29/2017</td>\n",
       "      <td>16:00:00</td>\n",
       "      <td>REGULAR</td>\n",
       "      <td>6158212</td>\n",
       "      <td>2085529</td>\n",
       "    </tr>\n",
       "    <tr>\n",
       "      <th>5</th>\n",
       "      <td>A002</td>\n",
       "      <td>R051</td>\n",
       "      <td>02-00-00</td>\n",
       "      <td>59 ST</td>\n",
       "      <td>NQR456W</td>\n",
       "      <td>BMT</td>\n",
       "      <td>04/29/2017</td>\n",
       "      <td>20:00:00</td>\n",
       "      <td>REGULAR</td>\n",
       "      <td>6158521</td>\n",
       "      <td>2085589</td>\n",
       "    </tr>\n",
       "    <tr>\n",
       "      <th>6</th>\n",
       "      <td>A002</td>\n",
       "      <td>R051</td>\n",
       "      <td>02-00-00</td>\n",
       "      <td>59 ST</td>\n",
       "      <td>NQR456W</td>\n",
       "      <td>BMT</td>\n",
       "      <td>04/30/2017</td>\n",
       "      <td>00:00:00</td>\n",
       "      <td>REGULAR</td>\n",
       "      <td>6158637</td>\n",
       "      <td>2085612</td>\n",
       "    </tr>\n",
       "    <tr>\n",
       "      <th>7</th>\n",
       "      <td>A002</td>\n",
       "      <td>R051</td>\n",
       "      <td>02-00-00</td>\n",
       "      <td>59 ST</td>\n",
       "      <td>NQR456W</td>\n",
       "      <td>BMT</td>\n",
       "      <td>04/30/2017</td>\n",
       "      <td>04:00:00</td>\n",
       "      <td>REGULAR</td>\n",
       "      <td>6158654</td>\n",
       "      <td>2085617</td>\n",
       "    </tr>\n",
       "    <tr>\n",
       "      <th>8</th>\n",
       "      <td>A002</td>\n",
       "      <td>R051</td>\n",
       "      <td>02-00-00</td>\n",
       "      <td>59 ST</td>\n",
       "      <td>NQR456W</td>\n",
       "      <td>BMT</td>\n",
       "      <td>04/30/2017</td>\n",
       "      <td>08:00:00</td>\n",
       "      <td>REGULAR</td>\n",
       "      <td>6158661</td>\n",
       "      <td>2085641</td>\n",
       "    </tr>\n",
       "    <tr>\n",
       "      <th>9</th>\n",
       "      <td>A002</td>\n",
       "      <td>R051</td>\n",
       "      <td>02-00-00</td>\n",
       "      <td>59 ST</td>\n",
       "      <td>NQR456W</td>\n",
       "      <td>BMT</td>\n",
       "      <td>04/30/2017</td>\n",
       "      <td>12:00:00</td>\n",
       "      <td>REGULAR</td>\n",
       "      <td>6158703</td>\n",
       "      <td>2085730</td>\n",
       "    </tr>\n",
       "  </tbody>\n",
       "</table>\n",
       "</div>"
      ],
      "text/plain": [
       "    C/A  UNIT       SCP STATION LINENAME DIVISION        DATE      TIME  \\\n",
       "0  A002  R051  02-00-00   59 ST  NQR456W      BMT  04/29/2017  00:00:00   \n",
       "1  A002  R051  02-00-00   59 ST  NQR456W      BMT  04/29/2017  04:00:00   \n",
       "2  A002  R051  02-00-00   59 ST  NQR456W      BMT  04/29/2017  08:00:00   \n",
       "3  A002  R051  02-00-00   59 ST  NQR456W      BMT  04/29/2017  12:00:00   \n",
       "4  A002  R051  02-00-00   59 ST  NQR456W      BMT  04/29/2017  16:00:00   \n",
       "5  A002  R051  02-00-00   59 ST  NQR456W      BMT  04/29/2017  20:00:00   \n",
       "6  A002  R051  02-00-00   59 ST  NQR456W      BMT  04/30/2017  00:00:00   \n",
       "7  A002  R051  02-00-00   59 ST  NQR456W      BMT  04/30/2017  04:00:00   \n",
       "8  A002  R051  02-00-00   59 ST  NQR456W      BMT  04/30/2017  08:00:00   \n",
       "9  A002  R051  02-00-00   59 ST  NQR456W      BMT  04/30/2017  12:00:00   \n",
       "\n",
       "      DESC  ENTRIES  \\\n",
       "0  REGULAR  6157740   \n",
       "1  REGULAR  6157777   \n",
       "2  REGULAR  6157810   \n",
       "3  REGULAR  6157963   \n",
       "4  REGULAR  6158212   \n",
       "5  REGULAR  6158521   \n",
       "6  REGULAR  6158637   \n",
       "7  REGULAR  6158654   \n",
       "8  REGULAR  6158661   \n",
       "9  REGULAR  6158703   \n",
       "\n",
       "   EXITS                                                                 \n",
       "0                                            2085315                     \n",
       "1                                            2085319                     \n",
       "2                                            2085353                     \n",
       "3                                            2085453                     \n",
       "4                                            2085529                     \n",
       "5                                            2085589                     \n",
       "6                                            2085612                     \n",
       "7                                            2085617                     \n",
       "8                                            2085641                     \n",
       "9                                            2085730                     "
      ]
     },
     "execution_count": 105,
     "metadata": {},
     "output_type": "execute_result"
    }
   ],
   "source": [
    "mta_df.head(10)"
   ]
  },
  {
   "cell_type": "code",
   "execution_count": 106,
   "metadata": {
    "collapsed": true
   },
   "outputs": [],
   "source": [
    "prob1_d = defaultdict(list)\n",
    "for row in mta_df.itertuples():\n",
    "    C_A, unit, scp, station = row[1], row[2], row[3], row[4]\n",
    "    v = [row[5], row[6], row[7], row[8], row[9], row[10], row[11]]\n",
    "    k = (C_A, unit, scp, station)\n",
    "    prob1_d[k].append(v)"
   ]
  },
  {
   "cell_type": "markdown",
   "metadata": {},
   "source": [
    "## Challenge 2"
   ]
  },
  {
   "cell_type": "code",
   "execution_count": 107,
   "metadata": {
    "collapsed": true
   },
   "outputs": [],
   "source": [
    "prob2_d = defaultdict(list)\n",
    "for row in mta_df.itertuples():\n",
    "    C_A, unit, scp, station = row[1], row[2], row[3], row[4]\n",
    "    dt = datetime.datetime.strptime(row[7] + ' ' + row[8], '%m/%d/%Y %H:%M:%S')\n",
    "    entries = row[10]\n",
    "    v = [dt, entries]\n",
    "    k = (C_A, unit, scp, station)\n",
    "    prob2_d[k].append(v)"
   ]
  },
  {
   "cell_type": "markdown",
   "metadata": {},
   "source": [
    "## Challenge 3"
   ]
  },
  {
   "cell_type": "code",
   "execution_count": 108,
   "metadata": {},
   "outputs": [],
   "source": [
    "turnstile_d = {}\n",
    "for key, value in prob2_d.items():\n",
    "    turnstile_d[key] = sum(item[1] for item in value)"
   ]
  },
  {
   "cell_type": "markdown",
   "metadata": {},
   "source": [
    "## Challenge 4"
   ]
  },
  {
   "cell_type": "code",
   "execution_count": 109,
   "metadata": {},
   "outputs": [],
   "source": [
    "dates, counts = [], []\n",
    "rand_k = random.choice(list(prob2_d.keys()))\n",
    "for val in prob2_d[rand_k]:\n",
    "    dates.append(val[0])\n",
    "    counts.append(val[1])"
   ]
  },
  {
   "cell_type": "code",
   "execution_count": 110,
   "metadata": {},
   "outputs": [
    {
     "data": {
      "image/png": "[encoded data removed]",
      "text/plain": [
       "<matplotlib.figure.Figure at 0x123061b70>"
      ]
     },
     "metadata": {},
     "output_type": "display_data"
    }
   ],
   "source": [
    "plt.figure(figsize=(10,3))\n",
    "plt.plot(dates,counts)\n",
    "plt.title('Time series for turnstile N550, R242, 01-05-01, 18 AV')\n",
    "plt.xlabel('Date')\n",
    "plt.ylabel('Entries per day');"
   ]
  },
  {
   "cell_type": "markdown",
   "metadata": {},
   "source": [
    "## Challenge 5, 6, and 7"
   ]
  },
  {
   "cell_type": "code",
   "execution_count": 111,
   "metadata": {},
   "outputs": [],
   "source": [
    "temp_d = defaultdict(list)\n",
    "prob5_d = defaultdict(list)\n",
    "for key, value in prob2_d.items():\n",
    "    for pair in value:\n",
    "        k = (key[0], key[1], key[3], pair[0])\n",
    "        v = (pair[1])\n",
    "        temp_d[k].append(v)\n",
    "for key, value in temp_d.items():\n",
    "    prob5_k = (key[0], key[1], key[2])\n",
    "    prob5_d[prob5_k].append((key[3],sum(value)))"
   ]
  },
  {
   "cell_type": "code",
   "execution_count": 112,
   "metadata": {},
   "outputs": [
    {
     "data": {
      "text/plain": [
       "[(datetime.datetime(2017, 4, 29, 0, 0), 54619081),\n",
       " (datetime.datetime(2017, 4, 29, 4, 0), 54619522),\n",
       " (datetime.datetime(2017, 4, 29, 8, 0), 54619877),\n",
       " (datetime.datetime(2017, 4, 29, 12, 0), 54621478),\n",
       " (datetime.datetime(2017, 4, 29, 16, 0), 54623862),\n",
       " (datetime.datetime(2017, 4, 29, 20, 0), 54626798),\n",
       " (datetime.datetime(2017, 4, 30, 0, 0), 54628652),\n",
       " (datetime.datetime(2017, 4, 30, 4, 0), 54629016),\n",
       " (datetime.datetime(2017, 4, 30, 8, 0), 54629179),\n",
       " (datetime.datetime(2017, 4, 30, 12, 0), 54630021),\n",
       " (datetime.datetime(2017, 4, 30, 16, 0), 54631808),\n",
       " (datetime.datetime(2017, 4, 30, 20, 0), 54633896),\n",
       " (datetime.datetime(2017, 5, 1, 0, 0), 54635144),\n",
       " (datetime.datetime(2017, 5, 1, 4, 0), 54635277),\n",
       " (datetime.datetime(2017, 5, 1, 8, 0), 54635931),\n",
       " (datetime.datetime(2017, 5, 1, 12, 0), 54638168),\n",
       " (datetime.datetime(2017, 5, 1, 16, 0), 54640814),\n",
       " (datetime.datetime(2017, 5, 1, 20, 0), 54647195),\n",
       " (datetime.datetime(2017, 5, 2, 0, 0), 54649259),\n",
       " (datetime.datetime(2017, 5, 2, 4, 0), 54649415),\n",
       " (datetime.datetime(2017, 5, 2, 8, 0), 54650167),\n",
       " (datetime.datetime(2017, 5, 2, 12, 0), 54652502),\n",
       " (datetime.datetime(2017, 5, 2, 16, 0), 54655322),\n",
       " (datetime.datetime(2017, 5, 2, 20, 0), 54661926),\n",
       " (datetime.datetime(2017, 5, 3, 0, 0), 54664227),\n",
       " (datetime.datetime(2017, 5, 3, 4, 0), 54664416),\n",
       " (datetime.datetime(2017, 5, 3, 8, 0), 54665114),\n",
       " (datetime.datetime(2017, 5, 3, 12, 0), 54667474),\n",
       " (datetime.datetime(2017, 5, 3, 16, 0), 54670407),\n",
       " (datetime.datetime(2017, 5, 3, 20, 0), 54677057),\n",
       " (datetime.datetime(2017, 5, 4, 0, 0), 54679389),\n",
       " (datetime.datetime(2017, 5, 4, 4, 0), 54679588),\n",
       " (datetime.datetime(2017, 5, 4, 8, 0), 54680310),\n",
       " (datetime.datetime(2017, 5, 4, 12, 0), 54682616),\n",
       " (datetime.datetime(2017, 5, 4, 16, 0), 54685595),\n",
       " (datetime.datetime(2017, 5, 4, 20, 0), 54692224),\n",
       " (datetime.datetime(2017, 5, 5, 0, 0), 54694655),\n",
       " (datetime.datetime(2017, 5, 5, 4, 0), 54694893),\n",
       " (datetime.datetime(2017, 5, 5, 8, 0), 54695568),\n",
       " (datetime.datetime(2017, 5, 5, 12, 0), 54697853),\n",
       " (datetime.datetime(2017, 5, 5, 16, 0), 54699272),\n",
       " (datetime.datetime(2017, 5, 5, 20, 0), 54704995),\n",
       " (datetime.datetime(2017, 5, 6, 0, 0), 54707164),\n",
       " (datetime.datetime(2017, 5, 6, 4, 0), 54707484),\n",
       " (datetime.datetime(2017, 5, 6, 8, 0), 54707708),\n",
       " (datetime.datetime(2017, 5, 6, 12, 0), 54708759),\n",
       " (datetime.datetime(2017, 5, 6, 16, 0), 54711044),\n",
       " (datetime.datetime(2017, 5, 6, 20, 0), 54713741),\n",
       " (datetime.datetime(2017, 5, 7, 0, 0), 54715393),\n",
       " (datetime.datetime(2017, 5, 7, 4, 0), 54715674),\n",
       " (datetime.datetime(2017, 5, 7, 8, 0), 54715858),\n",
       " (datetime.datetime(2017, 5, 7, 12, 0), 54716782),\n",
       " (datetime.datetime(2017, 5, 7, 16, 0), 54718652),\n",
       " (datetime.datetime(2017, 5, 7, 20, 0), 54720839),\n",
       " (datetime.datetime(2017, 5, 8, 0, 0), 54722112),\n",
       " (datetime.datetime(2017, 5, 8, 4, 0), 54722228),\n",
       " (datetime.datetime(2017, 5, 8, 8, 0), 54722884),\n",
       " (datetime.datetime(2017, 5, 8, 12, 0), 54725145),\n",
       " (datetime.datetime(2017, 5, 8, 16, 0), 54727872),\n",
       " (datetime.datetime(2017, 5, 8, 20, 0), 54734247),\n",
       " (datetime.datetime(2017, 5, 9, 0, 0), 54736403),\n",
       " (datetime.datetime(2017, 5, 9, 4, 0), 54736578),\n",
       " (datetime.datetime(2017, 5, 9, 8, 0), 54737295),\n",
       " (datetime.datetime(2017, 5, 9, 12, 0), 54739702),\n",
       " (datetime.datetime(2017, 5, 9, 16, 0), 54742596),\n",
       " (datetime.datetime(2017, 5, 9, 20, 0), 54749041),\n",
       " (datetime.datetime(2017, 5, 10, 0, 0), 54751207),\n",
       " (datetime.datetime(2017, 5, 10, 4, 0), 54751381),\n",
       " (datetime.datetime(2017, 5, 10, 8, 0), 54752063),\n",
       " (datetime.datetime(2017, 5, 10, 12, 0), 54754357),\n",
       " (datetime.datetime(2017, 5, 10, 16, 0), 54757294),\n",
       " (datetime.datetime(2017, 5, 10, 20, 0), 54763562),\n",
       " (datetime.datetime(2017, 5, 11, 0, 0), 54765947),\n",
       " (datetime.datetime(2017, 5, 11, 4, 0), 54766159),\n",
       " (datetime.datetime(2017, 5, 11, 8, 0), 54766863),\n",
       " (datetime.datetime(2017, 5, 11, 12, 0), 54769241),\n",
       " (datetime.datetime(2017, 5, 11, 16, 0), 54772071),\n",
       " (datetime.datetime(2017, 5, 11, 20, 0), 54778515),\n",
       " (datetime.datetime(2017, 5, 12, 0, 0), 54780979),\n",
       " (datetime.datetime(2017, 5, 12, 4, 0), 54781249),\n",
       " (datetime.datetime(2017, 5, 12, 8, 0), 54781910),\n",
       " (datetime.datetime(2017, 5, 12, 12, 0), 54784201),\n",
       " (datetime.datetime(2017, 5, 12, 16, 0), 54787277),\n",
       " (datetime.datetime(2017, 5, 12, 20, 0), 54793616),\n",
       " (datetime.datetime(2017, 5, 13, 0, 0), 54795897),\n",
       " (datetime.datetime(2017, 5, 13, 4, 0), 54796264),\n",
       " (datetime.datetime(2017, 5, 13, 8, 0), 54796508),\n",
       " (datetime.datetime(2017, 5, 13, 12, 0), 54797481),\n",
       " (datetime.datetime(2017, 5, 13, 16, 0), 54799522),\n",
       " (datetime.datetime(2017, 5, 13, 20, 0), 54801887),\n",
       " (datetime.datetime(2017, 5, 14, 0, 0), 54803221),\n",
       " (datetime.datetime(2017, 5, 14, 4, 0), 54803472),\n",
       " (datetime.datetime(2017, 5, 14, 8, 0), 54803644),\n",
       " (datetime.datetime(2017, 5, 14, 12, 0), 54804681),\n",
       " (datetime.datetime(2017, 5, 14, 16, 0), 54806409),\n",
       " (datetime.datetime(2017, 5, 14, 20, 0), 54808384),\n",
       " (datetime.datetime(2017, 5, 15, 0, 0), 54809535),\n",
       " (datetime.datetime(2017, 5, 15, 4, 0), 54809656),\n",
       " (datetime.datetime(2017, 5, 15, 8, 0), 54810270),\n",
       " (datetime.datetime(2017, 5, 15, 12, 0), 54812406),\n",
       " (datetime.datetime(2017, 5, 15, 16, 0), 54815235),\n",
       " (datetime.datetime(2017, 5, 15, 20, 0), 54821511),\n",
       " (datetime.datetime(2017, 5, 16, 0, 0), 54823645),\n",
       " (datetime.datetime(2017, 5, 16, 4, 0), 54823837),\n",
       " (datetime.datetime(2017, 5, 16, 8, 0), 54824577),\n",
       " (datetime.datetime(2017, 5, 16, 12, 0), 54826936),\n",
       " (datetime.datetime(2017, 5, 16, 16, 0), 54829720),\n",
       " (datetime.datetime(2017, 5, 16, 20, 0), 54836153),\n",
       " (datetime.datetime(2017, 5, 17, 0, 0), 54838500),\n",
       " (datetime.datetime(2017, 5, 17, 4, 0), 54838535),\n",
       " (datetime.datetime(2017, 5, 17, 8, 0), 54839211),\n",
       " (datetime.datetime(2017, 5, 17, 12, 0), 54841551),\n",
       " (datetime.datetime(2017, 5, 17, 16, 0), 54844368),\n",
       " (datetime.datetime(2017, 5, 17, 20, 0), 54850701),\n",
       " (datetime.datetime(2017, 5, 18, 0, 0), 54853173),\n",
       " (datetime.datetime(2017, 5, 18, 4, 0), 54853211),\n",
       " (datetime.datetime(2017, 5, 18, 8, 0), 54853871),\n",
       " (datetime.datetime(2017, 5, 18, 12, 0), 54856125),\n",
       " (datetime.datetime(2017, 5, 18, 16, 0), 54858986),\n",
       " (datetime.datetime(2017, 5, 18, 20, 0), 54865347),\n",
       " (datetime.datetime(2017, 5, 19, 0, 0), 54867925),\n",
       " (datetime.datetime(2017, 5, 19, 4, 0), 54867947),\n",
       " (datetime.datetime(2017, 5, 19, 8, 0), 54868562),\n",
       " (datetime.datetime(2017, 5, 19, 12, 0), 54870863),\n",
       " (datetime.datetime(2017, 5, 19, 16, 0), 54873882),\n",
       " (datetime.datetime(2017, 5, 19, 20, 0), 54880125),\n",
       " (datetime.datetime(2017, 5, 20, 0, 0), 54882514),\n",
       " (datetime.datetime(2017, 5, 20, 4, 0), 54882802),\n",
       " (datetime.datetime(2017, 5, 20, 8, 0), 54883075),\n",
       " (datetime.datetime(2017, 5, 20, 12, 0), 54884153),\n",
       " (datetime.datetime(2017, 5, 20, 16, 0), 54886281),\n",
       " (datetime.datetime(2017, 5, 20, 20, 0), 54889017),\n",
       " (datetime.datetime(2017, 5, 21, 0, 0), 54890681),\n",
       " (datetime.datetime(2017, 5, 21, 4, 0), 54890999),\n",
       " (datetime.datetime(2017, 5, 21, 8, 0), 54891179),\n",
       " (datetime.datetime(2017, 5, 21, 12, 0), 54892061),\n",
       " (datetime.datetime(2017, 5, 21, 16, 0), 54893768),\n",
       " (datetime.datetime(2017, 5, 21, 20, 0), 54896043),\n",
       " (datetime.datetime(2017, 5, 22, 0, 0), 54897280),\n",
       " (datetime.datetime(2017, 5, 22, 8, 0), 54898038),\n",
       " (datetime.datetime(2017, 5, 22, 12, 0), 54900273),\n",
       " (datetime.datetime(2017, 5, 22, 16, 0), 54902848),\n",
       " (datetime.datetime(2017, 5, 22, 20, 0), 54908730),\n",
       " (datetime.datetime(2017, 5, 23, 0, 0), 54910800),\n",
       " (datetime.datetime(2017, 5, 23, 4, 0), 54910956),\n",
       " (datetime.datetime(2017, 5, 23, 8, 0), 54911630),\n",
       " (datetime.datetime(2017, 5, 23, 12, 0), 54913993),\n",
       " (datetime.datetime(2017, 5, 23, 16, 0), 54916892),\n",
       " (datetime.datetime(2017, 5, 23, 20, 0), 54923304),\n",
       " (datetime.datetime(2017, 5, 24, 0, 0), 54925535),\n",
       " (datetime.datetime(2017, 5, 24, 4, 0), 54925743),\n",
       " (datetime.datetime(2017, 5, 24, 8, 0), 54926423),\n",
       " (datetime.datetime(2017, 5, 24, 12, 0), 54928923),\n",
       " (datetime.datetime(2017, 5, 24, 16, 0), 54931908),\n",
       " (datetime.datetime(2017, 5, 24, 20, 0), 54938319),\n",
       " (datetime.datetime(2017, 5, 25, 0, 0), 54940595),\n",
       " (datetime.datetime(2017, 5, 25, 4, 0), 54940809),\n",
       " (datetime.datetime(2017, 5, 25, 8, 0), 54941518),\n",
       " (datetime.datetime(2017, 5, 25, 12, 0), 54943908),\n",
       " (datetime.datetime(2017, 5, 25, 16, 0), 54946748),\n",
       " (datetime.datetime(2017, 5, 25, 20, 0), 54953015),\n",
       " (datetime.datetime(2017, 5, 26, 0, 0), 54955324),\n",
       " (datetime.datetime(2017, 5, 26, 4, 0), 54955554),\n",
       " (datetime.datetime(2017, 5, 26, 8, 0), 54956159),\n",
       " (datetime.datetime(2017, 5, 26, 12, 0), 54958169),\n",
       " (datetime.datetime(2017, 5, 26, 16, 0), 54961925),\n",
       " (datetime.datetime(2017, 5, 26, 20, 0), 54967499),\n",
       " (datetime.datetime(2017, 5, 22, 4, 0), 31046973)]"
      ]
     },
     "execution_count": 112,
     "metadata": {},
     "output_type": "execute_result"
    }
   ],
   "source": [
    "prob5_d[('A002', 'R051', '59 ST')]"
   ]
  },
  {
   "cell_type": "code",
   "execution_count": 113,
   "metadata": {
    "collapsed": true
   },
   "outputs": [],
   "source": [
    "dates, counts = [], []\n",
    "for val in sorted(prob5_d[('A002', 'R051', '59 ST')]):\n",
    "    dates.append(val[0])\n",
    "    counts.append(val[1])"
   ]
  },
  {
   "cell_type": "code",
   "execution_count": 114,
   "metadata": {},
   "outputs": [
    {
     "data": {
      "image/png": "[encoded data removed]",
      "text/plain": [
       "<matplotlib.figure.Figure at 0x119e87e48>"
      ]
     },
     "metadata": {},
     "output_type": "display_data"
    }
   ],
   "source": [
    "plt.figure(figsize=(12,3))\n",
    "plt.plot(dates,counts)\n",
    "plt.title('Time series for station A002, R051, 59 ST')\n",
    "plt.xlabel('Date')\n",
    "plt.ylabel('Entries per day');"
   ]
  },
  {
   "cell_type": "markdown",
   "metadata": {},
   "source": [
    "## Challenge 8"
   ]
  },
  {
   "cell_type": "code",
   "execution_count": 115,
   "metadata": {
    "scrolled": true
   },
   "outputs": [],
   "source": [
    "temp8_d = {}\n",
    "temp8_d[('A002', 'R051', '59 ST')] = prob5_d[('A002', 'R051', '59 ST')]\n",
    "prob8_d = {}\n",
    "prob8_d[('A002', 'R051', '59 ST')] = []\n",
    "\n",
    "for pair in temp8_d[('A002', 'R051', '59 ST')]:\n",
    "    prob8_d[('A002', 'R051', '59 ST')].append((pair[0].weekday(), pair[1]))"
   ]
  },
  {
   "cell_type": "code",
   "execution_count": 116,
   "metadata": {},
   "outputs": [],
   "source": [
    "weeks_d = {}\n",
    "for pair in prob8_d[('A002', 'R051', '59 ST')]:\n",
    "    if pair[0] not in weeks_d:\n",
    "        weeks_d[pair[0]] = pair[1]\n",
    "    else:\n",
    "        weeks_d[pair[0]] += pair[1]"
   ]
  },
  {
   "cell_type": "code",
   "execution_count": 117,
   "metadata": {},
   "outputs": [],
   "source": [
    "dates, counts = [], []\n",
    "for key, value in weeks_d.items():\n",
    "    dates.append(key)\n",
    "    counts.append(value)"
   ]
  },
  {
   "cell_type": "code",
   "execution_count": 119,
   "metadata": {},
   "outputs": [
    {
     "data": {
      "image/png": "[encoded data removed]",
      "text/plain": [
       "<matplotlib.figure.Figure at 0x1267b99e8>"
      ]
     },
     "metadata": {},
     "output_type": "display_data"
    }
   ],
   "source": [
    "plt.scatter(dates, counts)\n",
    "plt.title('Weekly entries for station A002, R051, 59 ST')\n",
    "plt.xlabel('Day')\n",
    "plt.ylabel('Entries per day')\n",
    "days = ['Sat','Sun','Mon','Tue','Wed','Thu','Fri']\n",
    "plt.xticks(dates, days);"
   ]
  },
  {
   "cell_type": "markdown",
   "metadata": {},
   "source": [
    "## Challenge 9, 10"
   ]
  },
  {
   "cell_type": "code",
   "execution_count": 123,
   "metadata": {
    "collapsed": true
   },
   "outputs": [],
   "source": [
    "temp_d = defaultdict(list)\n",
    "turnstile_d = {}\n",
    "for row in mta_df.itertuples():\n",
    "    C_A, unit, scp, station, linename, date = row[1], row[2], row[3], row[4], ''.join(sorted(row[5])), row[7]\n",
    "    entries = row[10]\n",
    "    k = (C_A, unit, scp, station, linename, date)\n",
    "    temp_d[k].append(entries)\n",
    "\n",
    "for key, value in temp_d.items():\n",
    "    entry = abs(max(value) - min(value))\n",
    "    turnstile_d[key] = [entry]"
   ]
  },
  {
   "cell_type": "code",
   "execution_count": 124,
   "metadata": {},
   "outputs": [],
   "source": [
    "dict_df = pd.DataFrame.from_dict(turnstile_d, orient='index')\n",
    "dict_df.rename(columns = {0:'Entries'}, inplace=True)"
   ]
  },
  {
   "cell_type": "code",
   "execution_count": 125,
   "metadata": {},
   "outputs": [],
   "source": [
    "turnstile_df = pd.DataFrame(columns=[])\n",
    "turnstile_df['C/A'] = [row[0][0] for row in dict_df.itertuples()]\n",
    "turnstile_df['Unit'] = [row[0][1] for row in dict_df.itertuples()]\n",
    "turnstile_df['SCP'] = [row[0][2] for row in dict_df.itertuples()]\n",
    "turnstile_df['Station'] = [row[0][3] for row in dict_df.itertuples()]\n",
    "turnstile_df['Linename'] = [row[0][4] for row in dict_df.itertuples()]\n",
    "turnstile_df['Date'] = [row[0][5] for row in dict_df.itertuples()]\n",
    "turnstile_df['Entries'] = [row[1] for row in dict_df.itertuples()]"
   ]
  },
  {
   "cell_type": "code",
   "execution_count": 126,
   "metadata": {
    "collapsed": true
   },
   "outputs": [],
   "source": [
    "pd.to_datetime(turnstile_df['Date'])\n",
    "turnstile_df.groupby(['Linename', 'Station']).sum().sort_values(by='Entries',ascending=False).head(10)\n",
    "\n",
    "busiest_turnstile_df = turnstile_df.groupby(['Linename','Station']).sum()\n",
    "busiest_turnstile_df = busiest_turnstile_df.sort_values(by='Entries',ascending=False)\n",
    "busiest_turnstile_df.reset_index(inplace=True)"
   ]
  },
  {
   "cell_type": "code",
   "execution_count": null,
   "metadata": {},
   "outputs": [],
   "source": []
  },
  {
   "cell_type": "code",
   "execution_count": null,
   "metadata": {
    "collapsed": true
   },
   "outputs": [],
   "source": []
  }
 ],
 "metadata": {
  "kernelspec": {
   "display_name": "Python [default]",
   "language": "python",
   "name": "python3"
  },
  "language_info": {
   "codemirror_mode": {
    "name": "ipython",
    "version": 3
   },
   "file_extension": ".py",
   "mimetype": "text/x-python",
   "name": "python",
   "nbconvert_exporter": "python",
   "pygments_lexer": "ipython3",
   "version": "3.6.2"
  }
 },
 "nbformat": 4,
 "nbformat_minor": 2
}
