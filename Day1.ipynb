{
 "cells": [
  {
   "cell_type": "code",
   "execution_count": 1,
   "metadata": {
    "collapsed": true
   },
   "outputs": [],
   "source": [
    "%matplotlib inline"
   ]
  },
  {
   "cell_type": "code",
   "execution_count": 2,
   "metadata": {
    "collapsed": true
   },
   "outputs": [],
   "source": [
    "import pandas as pd\n",
    "pd.options.display.max_rows = 25 #display max rows\n",
    "pd.options.display.float_format = '{:.2f}'.format #supress scientific notation"
   ]
  },
  {
   "cell_type": "markdown",
   "metadata": {},
   "source": [
    "Read turnstile data from the week May 20, 2017"
   ]
  },
  {
   "cell_type": "code",
   "execution_count": 3,
   "metadata": {
    "collapsed": true
   },
   "outputs": [],
   "source": [
    "df = pd.read_csv('http://web.mta.info/developers/data/nyct/turnstile/turnstile_170520.txt')"
   ]
  },
  {
   "cell_type": "markdown",
   "metadata": {},
   "source": [
    "Strip the whitespace in the column names"
   ]
  },
  {
   "cell_type": "code",
   "execution_count": 5,
   "metadata": {
    "collapsed": true
   },
   "outputs": [],
   "source": [
    "col_names=[]\n",
    "for col in df.columns:\n",
    "    col_names.append(col.strip())\n",
    "df.columns=col_names"
   ]
  },
  {
   "cell_type": "markdown",
   "metadata": {},
   "source": [
    "Create a DATE_TIME column by combining DATE and TIME columns"
   ]
  },
  {
   "cell_type": "code",
   "execution_count": 6,
   "metadata": {
    "collapsed": true
   },
   "outputs": [],
   "source": [
    "df[\"DATE_TIME\"] = df[\"DATE\"] + \" \" + df[\"TIME\"]"
   ]
  },
  {
   "cell_type": "markdown",
   "metadata": {},
   "source": [
    "Convert the DATE_TIME column to a datetime object"
   ]
  },
  {
   "cell_type": "code",
   "execution_count": 7,
   "metadata": {
    "collapsed": true
   },
   "outputs": [],
   "source": [
    "df['Date_Time'] = pd.to_datetime(df['DATE_TIME'])"
   ]
  },
  {
   "cell_type": "markdown",
   "metadata": {},
   "source": [
    "Add DAY column indication the day of the week"
   ]
  },
  {
   "cell_type": "code",
   "execution_count": 9,
   "metadata": {
    "collapsed": true
   },
   "outputs": [],
   "source": [
    "df['DAY']=df['Date_Time'].dt.weekday_name"
   ]
  },
  {
   "cell_type": "markdown",
   "metadata": {},
   "source": [
    "Entries and exits is a cumulative count of riders.\n",
    "Add ENTRIES_DIFF and EXITS_DIFF columns to look at number of people riding."
   ]
  },
  {
   "cell_type": "code",
   "execution_count": 10,
   "metadata": {
    "collapsed": true
   },
   "outputs": [],
   "source": [
    "df['ENTRIES_DIFF'] = df['ENTRIES'].diff()"
   ]
  },
  {
   "cell_type": "code",
   "execution_count": 11,
   "metadata": {
    "collapsed": true
   },
   "outputs": [],
   "source": [
    "df['EXITS_DIFF']=df['EXITS'].diff()"
   ]
  },
  {
   "cell_type": "markdown",
   "metadata": {},
   "source": [
    "Reformat the data frame"
   ]
  },
  {
   "cell_type": "code",
   "execution_count": 13,
   "metadata": {
    "collapsed": true
   },
   "outputs": [],
   "source": [
    "cols = ['Date_Time', 'DAY', 'STATION', 'LINENAME', 'SCP', 'ENTRIES', 'ENTRIES_DIFF', 'EXITS', 'EXITS_DIFF']"
   ]
  },
  {
   "cell_type": "code",
   "execution_count": 15,
   "metadata": {
    "collapsed": false
   },
   "outputs": [],
   "source": [
    "df = df.loc[:,cols]"
   ]
  },
  {
   "cell_type": "code",
   "execution_count": 16,
   "metadata": {
    "collapsed": false
   },
   "outputs": [
    {
     "data": {
      "text/html": [
       "<div>\n",
       "<table border=\"1\" class=\"dataframe\">\n",
       "  <thead>\n",
       "    <tr style=\"text-align: right;\">\n",
       "      <th></th>\n",
       "      <th>Date_Time</th>\n",
       "      <th>DAY</th>\n",
       "      <th>STATION</th>\n",
       "      <th>LINENAME</th>\n",
       "      <th>SCP</th>\n",
       "      <th>ENTRIES</th>\n",
       "      <th>ENTRIES_DIFF</th>\n",
       "      <th>EXITS</th>\n",
       "      <th>EXITS_DIFF</th>\n",
       "    </tr>\n",
       "  </thead>\n",
       "  <tbody>\n",
       "    <tr>\n",
       "      <th>0</th>\n",
       "      <td>2017-05-13 00:00:00</td>\n",
       "      <td>Saturday</td>\n",
       "      <td>59 ST</td>\n",
       "      <td>NQR456W</td>\n",
       "      <td>02-00-00</td>\n",
       "      <td>6175956</td>\n",
       "      <td>nan</td>\n",
       "      <td>2091935</td>\n",
       "      <td>nan</td>\n",
       "    </tr>\n",
       "    <tr>\n",
       "      <th>1</th>\n",
       "      <td>2017-05-13 04:00:00</td>\n",
       "      <td>Saturday</td>\n",
       "      <td>59 ST</td>\n",
       "      <td>NQR456W</td>\n",
       "      <td>02-00-00</td>\n",
       "      <td>6176001</td>\n",
       "      <td>45.00</td>\n",
       "      <td>2091936</td>\n",
       "      <td>1.00</td>\n",
       "    </tr>\n",
       "    <tr>\n",
       "      <th>2</th>\n",
       "      <td>2017-05-13 08:00:00</td>\n",
       "      <td>Saturday</td>\n",
       "      <td>59 ST</td>\n",
       "      <td>NQR456W</td>\n",
       "      <td>02-00-00</td>\n",
       "      <td>6176032</td>\n",
       "      <td>31.00</td>\n",
       "      <td>2091960</td>\n",
       "      <td>24.00</td>\n",
       "    </tr>\n",
       "    <tr>\n",
       "      <th>3</th>\n",
       "      <td>2017-05-13 12:00:00</td>\n",
       "      <td>Saturday</td>\n",
       "      <td>59 ST</td>\n",
       "      <td>NQR456W</td>\n",
       "      <td>02-00-00</td>\n",
       "      <td>6176121</td>\n",
       "      <td>89.00</td>\n",
       "      <td>2092061</td>\n",
       "      <td>101.00</td>\n",
       "    </tr>\n",
       "    <tr>\n",
       "      <th>4</th>\n",
       "      <td>2017-05-13 16:00:00</td>\n",
       "      <td>Saturday</td>\n",
       "      <td>59 ST</td>\n",
       "      <td>NQR456W</td>\n",
       "      <td>02-00-00</td>\n",
       "      <td>6176394</td>\n",
       "      <td>273.00</td>\n",
       "      <td>2092119</td>\n",
       "      <td>58.00</td>\n",
       "    </tr>\n",
       "  </tbody>\n",
       "</table>\n",
       "</div>"
      ],
      "text/plain": [
       "            Date_Time       DAY STATION LINENAME       SCP  ENTRIES  \\\n",
       "0 2017-05-13 00:00:00  Saturday   59 ST  NQR456W  02-00-00  6175956   \n",
       "1 2017-05-13 04:00:00  Saturday   59 ST  NQR456W  02-00-00  6176001   \n",
       "2 2017-05-13 08:00:00  Saturday   59 ST  NQR456W  02-00-00  6176032   \n",
       "3 2017-05-13 12:00:00  Saturday   59 ST  NQR456W  02-00-00  6176121   \n",
       "4 2017-05-13 16:00:00  Saturday   59 ST  NQR456W  02-00-00  6176394   \n",
       "\n",
       "   ENTRIES_DIFF    EXITS  EXITS_DIFF  \n",
       "0           nan  2091935         nan  \n",
       "1         45.00  2091936        1.00  \n",
       "2         31.00  2091960       24.00  \n",
       "3         89.00  2092061      101.00  \n",
       "4        273.00  2092119       58.00  "
      ]
     },
     "execution_count": 16,
     "metadata": {},
     "output_type": "execute_result"
    }
   ],
   "source": [
    "df.head()"
   ]
  },
  {
   "cell_type": "markdown",
   "metadata": {},
   "source": [
    "Examine the data for a single station"
   ]
  },
  {
   "cell_type": "code",
   "execution_count": 18,
   "metadata": {
    "collapsed": false
   },
   "outputs": [
    {
     "data": {
      "text/html": [
       "<div>\n",
       "<table border=\"1\" class=\"dataframe\">\n",
       "  <thead>\n",
       "    <tr style=\"text-align: right;\">\n",
       "      <th></th>\n",
       "      <th>min</th>\n",
       "      <th>max</th>\n",
       "      <th>count</th>\n",
       "      <th>mean</th>\n",
       "    </tr>\n",
       "    <tr>\n",
       "      <th>Date_Time</th>\n",
       "      <th></th>\n",
       "      <th></th>\n",
       "      <th></th>\n",
       "      <th></th>\n",
       "    </tr>\n",
       "  </thead>\n",
       "  <tbody>\n",
       "    <tr>\n",
       "      <th>2017-05-13 00:00:00</th>\n",
       "      <td>-2018655970.00</td>\n",
       "      <td>2024012884.00</td>\n",
       "      <td>52</td>\n",
       "      <td>16146.52</td>\n",
       "    </tr>\n",
       "    <tr>\n",
       "      <th>2017-05-13 04:00:00</th>\n",
       "      <td>-41.00</td>\n",
       "      <td>161.00</td>\n",
       "      <td>53</td>\n",
       "      <td>31.28</td>\n",
       "    </tr>\n",
       "    <tr>\n",
       "      <th>2017-05-13 08:00:00</th>\n",
       "      <td>-248.00</td>\n",
       "      <td>447.00</td>\n",
       "      <td>53</td>\n",
       "      <td>42.40</td>\n",
       "    </tr>\n",
       "    <tr>\n",
       "      <th>2017-05-13 12:00:00</th>\n",
       "      <td>-515.00</td>\n",
       "      <td>814.00</td>\n",
       "      <td>53</td>\n",
       "      <td>114.83</td>\n",
       "    </tr>\n",
       "    <tr>\n",
       "      <th>2017-05-13 16:00:00</th>\n",
       "      <td>-489.00</td>\n",
       "      <td>656.00</td>\n",
       "      <td>53</td>\n",
       "      <td>185.26</td>\n",
       "    </tr>\n",
       "    <tr>\n",
       "      <th>2017-05-13 20:00:00</th>\n",
       "      <td>-499.00</td>\n",
       "      <td>678.00</td>\n",
       "      <td>53</td>\n",
       "      <td>203.17</td>\n",
       "    </tr>\n",
       "    <tr>\n",
       "      <th>2017-05-14 00:00:00</th>\n",
       "      <td>-236.00</td>\n",
       "      <td>358.00</td>\n",
       "      <td>53</td>\n",
       "      <td>93.89</td>\n",
       "    </tr>\n",
       "    <tr>\n",
       "      <th>2017-05-14 04:00:00</th>\n",
       "      <td>-33.00</td>\n",
       "      <td>100.00</td>\n",
       "      <td>53</td>\n",
       "      <td>20.85</td>\n",
       "    </tr>\n",
       "    <tr>\n",
       "      <th>2017-05-14 08:00:00</th>\n",
       "      <td>-149.00</td>\n",
       "      <td>304.00</td>\n",
       "      <td>53</td>\n",
       "      <td>27.92</td>\n",
       "    </tr>\n",
       "    <tr>\n",
       "      <th>2017-05-14 11:37:37</th>\n",
       "      <td>-403.00</td>\n",
       "      <td>752.00</td>\n",
       "      <td>4</td>\n",
       "      <td>296.75</td>\n",
       "    </tr>\n",
       "    <tr>\n",
       "      <th>2017-05-14 11:49:22</th>\n",
       "      <td>0.00</td>\n",
       "      <td>469.00</td>\n",
       "      <td>5</td>\n",
       "      <td>230.40</td>\n",
       "    </tr>\n",
       "    <tr>\n",
       "      <th>2017-05-14 12:00:00</th>\n",
       "      <td>-69.00</td>\n",
       "      <td>306.00</td>\n",
       "      <td>53</td>\n",
       "      <td>61.89</td>\n",
       "    </tr>\n",
       "    <tr>\n",
       "      <th>...</th>\n",
       "      <td>...</td>\n",
       "      <td>...</td>\n",
       "      <td>...</td>\n",
       "      <td>...</td>\n",
       "    </tr>\n",
       "    <tr>\n",
       "      <th>2017-05-18 00:00:00</th>\n",
       "      <td>-285.00</td>\n",
       "      <td>719.00</td>\n",
       "      <td>53</td>\n",
       "      <td>176.81</td>\n",
       "    </tr>\n",
       "    <tr>\n",
       "      <th>2017-05-18 04:00:00</th>\n",
       "      <td>-54.00</td>\n",
       "      <td>127.00</td>\n",
       "      <td>53</td>\n",
       "      <td>23.62</td>\n",
       "    </tr>\n",
       "    <tr>\n",
       "      <th>2017-05-18 08:00:00</th>\n",
       "      <td>-642.00</td>\n",
       "      <td>979.00</td>\n",
       "      <td>53</td>\n",
       "      <td>123.85</td>\n",
       "    </tr>\n",
       "    <tr>\n",
       "      <th>2017-05-18 12:00:00</th>\n",
       "      <td>-850.00</td>\n",
       "      <td>1253.00</td>\n",
       "      <td>53</td>\n",
       "      <td>256.17</td>\n",
       "    </tr>\n",
       "    <tr>\n",
       "      <th>2017-05-18 16:00:00</th>\n",
       "      <td>-552.00</td>\n",
       "      <td>1083.00</td>\n",
       "      <td>53</td>\n",
       "      <td>309.04</td>\n",
       "    </tr>\n",
       "    <tr>\n",
       "      <th>2017-05-18 20:00:00</th>\n",
       "      <td>-1063.00</td>\n",
       "      <td>1841.00</td>\n",
       "      <td>53</td>\n",
       "      <td>550.74</td>\n",
       "    </tr>\n",
       "    <tr>\n",
       "      <th>2017-05-19 00:00:00</th>\n",
       "      <td>-295.00</td>\n",
       "      <td>730.00</td>\n",
       "      <td>53</td>\n",
       "      <td>184.23</td>\n",
       "    </tr>\n",
       "    <tr>\n",
       "      <th>2017-05-19 04:00:00</th>\n",
       "      <td>-61.00</td>\n",
       "      <td>180.00</td>\n",
       "      <td>53</td>\n",
       "      <td>25.02</td>\n",
       "    </tr>\n",
       "    <tr>\n",
       "      <th>2017-05-19 08:00:00</th>\n",
       "      <td>-664.00</td>\n",
       "      <td>1047.00</td>\n",
       "      <td>53</td>\n",
       "      <td>118.94</td>\n",
       "    </tr>\n",
       "    <tr>\n",
       "      <th>2017-05-19 12:00:00</th>\n",
       "      <td>-774.00</td>\n",
       "      <td>1312.00</td>\n",
       "      <td>53</td>\n",
       "      <td>281.87</td>\n",
       "    </tr>\n",
       "    <tr>\n",
       "      <th>2017-05-19 16:00:00</th>\n",
       "      <td>-530.00</td>\n",
       "      <td>1043.00</td>\n",
       "      <td>53</td>\n",
       "      <td>312.92</td>\n",
       "    </tr>\n",
       "    <tr>\n",
       "      <th>2017-05-19 20:00:00</th>\n",
       "      <td>-753.00</td>\n",
       "      <td>1752.00</td>\n",
       "      <td>53</td>\n",
       "      <td>526.72</td>\n",
       "    </tr>\n",
       "  </tbody>\n",
       "</table>\n",
       "<p>49 rows × 4 columns</p>\n",
       "</div>"
      ],
      "text/plain": [
       "                               min           max  count     mean\n",
       "Date_Time                                                       \n",
       "2017-05-13 00:00:00 -2018655970.00 2024012884.00     52 16146.52\n",
       "2017-05-13 04:00:00         -41.00        161.00     53    31.28\n",
       "2017-05-13 08:00:00        -248.00        447.00     53    42.40\n",
       "2017-05-13 12:00:00        -515.00        814.00     53   114.83\n",
       "2017-05-13 16:00:00        -489.00        656.00     53   185.26\n",
       "2017-05-13 20:00:00        -499.00        678.00     53   203.17\n",
       "2017-05-14 00:00:00        -236.00        358.00     53    93.89\n",
       "2017-05-14 04:00:00         -33.00        100.00     53    20.85\n",
       "2017-05-14 08:00:00        -149.00        304.00     53    27.92\n",
       "2017-05-14 11:37:37        -403.00        752.00      4   296.75\n",
       "2017-05-14 11:49:22           0.00        469.00      5   230.40\n",
       "2017-05-14 12:00:00         -69.00        306.00     53    61.89\n",
       "...                            ...           ...    ...      ...\n",
       "2017-05-18 00:00:00        -285.00        719.00     53   176.81\n",
       "2017-05-18 04:00:00         -54.00        127.00     53    23.62\n",
       "2017-05-18 08:00:00        -642.00        979.00     53   123.85\n",
       "2017-05-18 12:00:00        -850.00       1253.00     53   256.17\n",
       "2017-05-18 16:00:00        -552.00       1083.00     53   309.04\n",
       "2017-05-18 20:00:00       -1063.00       1841.00     53   550.74\n",
       "2017-05-19 00:00:00        -295.00        730.00     53   184.23\n",
       "2017-05-19 04:00:00         -61.00        180.00     53    25.02\n",
       "2017-05-19 08:00:00        -664.00       1047.00     53   118.94\n",
       "2017-05-19 12:00:00        -774.00       1312.00     53   281.87\n",
       "2017-05-19 16:00:00        -530.00       1043.00     53   312.92\n",
       "2017-05-19 20:00:00        -753.00       1752.00     53   526.72\n",
       "\n",
       "[49 rows x 4 columns]"
      ]
     },
     "execution_count": 18,
     "metadata": {},
     "output_type": "execute_result"
    }
   ],
   "source": [
    "df[df.STATION=='59 ST'].groupby('Date_Time').ENTRIES_DIFF.agg(['min', 'max','count','mean'])"
   ]
  },
  {
   "cell_type": "markdown",
   "metadata": {},
   "source": [
    "To do: 1. How do we handle the max and min for 2017-05-13 2. How we handle the negative numbers for ENTRIES_DIFF?"
   ]
  }
 ],
 "metadata": {
  "kernelspec": {
   "display_name": "Python 3",
   "language": "python",
   "name": "python3"
  },
  "language_info": {
   "codemirror_mode": {
    "name": "ipython",
    "version": 3
   },
   "file_extension": ".py",
   "mimetype": "text/x-python",
   "name": "python",
   "nbconvert_exporter": "python",
   "pygments_lexer": "ipython3",
   "version": "3.6.0"
  }
 },
 "nbformat": 4,
 "nbformat_minor": 2
}
